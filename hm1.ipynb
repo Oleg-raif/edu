{
 "cells": [
  {
   "cell_type": "code",
   "execution_count": 9,
   "metadata": {},
   "outputs": [
    {
     "name": "stdout",
     "output_type": "stream",
     "text": [
      "задание1 у кого длинее\n",
      "input phrase1\n",
      "123\n",
      "input phrase2\n",
      "123\n",
      "no winner\n"
     ]
    }
   ],
   "source": [
    "print(\"задание1 у кого длинее\")\n",
    "print(\"input phrase1\")\n",
    "phrase_1=input()\n",
    "print(\"input phrase2\")\n",
    "phrase_2=input()\n",
    "\n",
    "if len(phrase_1)>len(phrase_2):\n",
    "    print(\"Фраза 1 длиннее фразы 2\")\n",
    "elif len(phrase_1)<len(phrase_2):\n",
    "    print(\"Фраза 2 длиннее фразы 1\")\n",
    "else: \n",
    "    print(\"Фразы равной длины\")"
   ]
  },
  {
   "cell_type": "code",
   "execution_count": 22,
   "metadata": {},
   "outputs": [
    {
     "name": "stdout",
     "output_type": "stream",
     "text": [
      "задание2 какой год\n",
      "input year\n",
      "8\n",
      "Високосный год\n"
     ]
    }
   ],
   "source": [
    "print(\"задание2 какой год\")\n",
    "print(\"input year\")\n",
    "a=int(input())\n",
    "if (a%4==0) and ((a%100!=0)or(a%400==0))  :\n",
    "    print(\"Високосный год\")\n",
    "else: \n",
    "     print(\"Обычный год\")"
   ]
  },
  {
   "cell_type": "code",
   "execution_count": 42,
   "metadata": {},
   "outputs": [
    {
     "name": "stdout",
     "output_type": "stream",
     "text": [
      "задание3 знак зодиака или 12 ифов\n",
      "input day of birth\n",
      "09\n",
      "input number of month of birth\n",
      "09\n",
      "Ваш знак зодиака: Дева\n"
     ]
    }
   ],
   "source": [
    "import sys\n",
    "print(\"задание3 знак зодиака или 12 ифов\")\n",
    "print(\"input day of birth\")\n",
    "a=int(input())\n",
    "print(\"input number of month of birth\")\n",
    "b=int(input())\n",
    "\n",
    "if a<1 or a>31 or b<1 or b>12:\n",
    "    sys.exit(\"no such date\")\n",
    "\n",
    "    \n",
    "oven=\"Овен\"\n",
    "tel=\"Телец\"\n",
    "bliz=\"Близнецы\"\n",
    "rak=\"Рак\"\n",
    "lev=\"Лев\"\n",
    "deva=\"Дева\"\n",
    "vesi=\"Весы\"\n",
    "skorp=\"Скорпион\"\n",
    "strel=\"Стрелец\"\n",
    "kozer=\"Козерог\"\n",
    "vodol=\"Водолей\"\n",
    "ribi=\"Рыбы\"\n",
    "\n",
    "if ((a>=21) and (b==3)) or ((a<20) and (b==4)):\n",
    "                           print(\"Ваш знак зодиака:\",oven)\n",
    "if ((a>=21) and (b==4)) or ((a<20) and (b==5)):\n",
    "                           print(\"Ваш знак зодиака:\",tel)\n",
    "if ((a>=21) and (b==5)) or ((a<20) and (b==6)):\n",
    "                           print(\"Ваш знак зодиака:\",bliz)\n",
    "if ((a>=21) and (b==6)) or ((a<22) and (b==7)):\n",
    "                           print(\"Ваш знак зодиака:\",rak)\n",
    "if ((a>=23) and (b==7)) or ((a<22) and (b==8)):\n",
    "                           print(\"Ваш знак зодиака:\",lev)\n",
    "if ((a>=23) and (b==8)) or ((a<22) and (b==9)):\n",
    "                           print(\"Ваш знак зодиака:\",deva)\n",
    "if ((a>=23) and (b==9)) or ((a<22) and (b==10)):\n",
    "                           print(\"Ваш знак зодиака:\",vesi)\n",
    "if ((a>=23) and (b==10)) or ((a<22) and (b==11)):\n",
    "                           print(\"Ваш знак зодиака:\",skorp)\n",
    "if ((a>=23) and (b==11)) or ((a<21) and (b==12)):\n",
    "                           print(\"Ваш знак зодиака:\",strel)\n",
    "if ((a>=22) and (b==12)) or ((a<19) and (b==1)):\n",
    "                           print(\"Ваш знак зодиака:\",kozer)\n",
    "if ((a>=20) and (b==1)) or ((a<19) and (b==2)):\n",
    "                           print(\"Ваш знак зодиака:\",vodol)\n",
    "if ((a>=20) and (b==2)) or ((a<20) and (b==3)):\n",
    "                           print(\"Ваш знак зодиака:\",ribi)\n",
    "\n"
   ]
  },
  {
   "cell_type": "code",
   "execution_count": 40,
   "metadata": {},
   "outputs": [
    {
     "name": "stdout",
     "output_type": "stream",
     "text": [
      "задание4 работаем в DHL\n",
      "input width\n",
      "51\n",
      "input length\n",
      "51\n",
      "input height\n",
      "49\n",
      "Коробка №2\n"
     ]
    }
   ],
   "source": [
    "print(\"задание4 работаем в DHL\")\n",
    "print(\"input width\")\n",
    "a=int(input())\n",
    "print(\"input length\")\n",
    "b=int(input())\n",
    "print(\"input height\")\n",
    "c=int(input())\n",
    "\n",
    "if (a<15)and(b<15)and(c<15):\n",
    "    print(\"Коробка №1\")\n",
    "elif b>200:\n",
    "    print(\"Упаковка для лыж\")\n",
    "elif (15<a<50)or(15<b<50)or(15<c<50):\n",
    "    print(\"Коробка №2\")\n",
    "else: \n",
    "    print(\"Стандартная коробка №3\")"
   ]
  },
  {
   "cell_type": "code",
   "execution_count": null,
   "metadata": {},
   "outputs": [],
   "source": []
  },
  {
   "cell_type": "markdown",
   "metadata": {},
   "source": []
  }
 ],
 "metadata": {
  "kernelspec": {
   "display_name": "Python 3",
   "language": "python",
   "name": "python3"
  },
  "language_info": {
   "codemirror_mode": {
    "name": "ipython",
    "version": 3
   },
   "file_extension": ".py",
   "mimetype": "text/x-python",
   "name": "python",
   "nbconvert_exporter": "python",
   "pygments_lexer": "ipython3",
   "version": "3.8.5"
  }
 },
 "nbformat": 4,
 "nbformat_minor": 4
}
