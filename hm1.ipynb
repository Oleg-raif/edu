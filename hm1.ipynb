{
 "cells": [
  {
   "cell_type": "code",
   "execution_count": 9,
   "metadata": {},
   "outputs": [
    {
     "name": "stdout",
     "output_type": "stream",
     "text": [
      "задание1 у кого длинее\n",
      "input phrase1\n",
      "123\n",
      "input phrase2\n",
      "123\n",
      "no winner\n"
     ]
    }
   ],
   "source": [
    "print(\"задание1 у кого длинее\")\n",
    "print(\"input phrase1\")\n",
    "phrase_1=input()\n",
    "print(\"input phrase2\")\n",
    "phrase_2=input()\n",
    "\n",
    "if len(phrase_1)>len(phrase_2):\n",
    "    print(\"Фраза 1 длиннее фразы 2\")\n",
    "elif len(phrase_1)<len(phrase_2):\n",
    "    print(\"Фраза 2 длиннее фразы 1\")\n",
    "else: \n",
    "    print(\"Фразы равной длины\")"
   ]
  },
  {
   "cell_type": "code",
   "execution_count": 22,
   "metadata": {},
   "outputs": [
    {
     "name": "stdout",
     "output_type": "stream",
     "text": [
      "задание2 какой год\n",
      "input year\n",
      "8\n",
      "Високосный год\n"
     ]
    }
   ],
   "source": [
    "print(\"задание2 какой год\")\n",
    "print(\"input year\")\n",
    "a=int(input())\n",
    "if (a%4==0) and ((a%100!=0)or(a%400==0))  :\n",
    "    print(\"Високосный год\")\n",
    "else: \n",
    "     print(\"Обычный год\")"
   ]
  },
  {
   "cell_type": "code",
   "execution_count": null,
   "metadata": {},
   "outputs": [],
   "source": []
  },
  {
   "cell_type": "code",
   "execution_count": null,
   "metadata": {},
   "outputs": [],
   "source": []
  }
 ],
 "metadata": {
  "kernelspec": {
   "display_name": "Python 3",
   "language": "python",
   "name": "python3"
  },
  "language_info": {
   "codemirror_mode": {
    "name": "ipython",
    "version": 3
   },
   "file_extension": ".py",
   "mimetype": "text/x-python",
   "name": "python",
   "nbconvert_exporter": "python",
   "pygments_lexer": "ipython3",
   "version": "3.8.5"
  }
 },
 "nbformat": 4,
 "nbformat_minor": 4
}
