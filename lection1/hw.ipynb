{
 "cells": [
  {
   "cell_type": "code",
   "execution_count": 5,
   "metadata": {},
   "outputs": [
    {
     "name": "stdout",
     "output_type": "stream",
     "text": [
      "задание1 середина\n",
      "input word\n",
      "qwert\n",
      "e\n"
     ]
    }
   ],
   "source": [
    "print(\"задание1 середина\")\n",
    "print(\"input word\")\n",
    "word=input()\n",
    "l=len(word)\n",
    "if l%2==0: \n",
    "    print(word[l//2],word[l//2+1],sep='')\n",
    "else:\n",
    "    print(word[l//2],sep='')"
   ]
  },
  {
   "cell_type": "code",
   "execution_count": 11,
   "metadata": {},
   "outputs": [
    {
     "name": "stdout",
     "output_type": "stream",
     "text": [
      "задание2 ждем 0\n",
      "input word\n",
      "1\n",
      "input word\n",
      "2\n",
      "input word\n",
      "0\n",
      "Результат:\n",
      "3\n"
     ]
    }
   ],
   "source": [
    "print(\"задание2 ждем 0\")\n",
    "s=0\n",
    "print(\"input word\")\n",
    "a=int(input())\n",
    "while a!=0:\n",
    "    s=s+a\n",
    "    print(\"input word\")\n",
    "    a=int(input())\n",
    "print(s)"
   ]
  },
  {
   "cell_type": "code",
   "execution_count": 24,
   "metadata": {},
   "outputs": [
    {
     "name": "stdout",
     "output_type": "stream",
     "text": [
      "задание3 давай поженимся\n",
      "Введите имена парней через пробел q w e r\n",
      "Введите имена девушек через пробел a s d f\n",
      "Идеальные пары: /n\n",
      "e и a\n",
      "q и d\n",
      "r и f\n",
      "w и s\n"
     ]
    }
   ],
   "source": [
    "print(\"задание3 давай поженимся\")\n",
    "\n",
    "boys = list(map(str,input('Введите имена парней через пробел ').split()))\n",
    "girls = list(map(str,input('Введите имена девушек через пробел ').split()))\n",
    "\n",
    "if len(boys)!=len(girls):\n",
    "    print(\"Внимание, кто-то может остаться без пары!\")\n",
    "else:\n",
    "    boys=sorted(boys)\n",
    "    girls=sorted(girls)\n",
    "\n",
    "    print(\"Идеальные пары: /n\")\n",
    "    for i in range(len(boys)):\n",
    "        print(boys[i],\"и\",girls[i])\n"
   ]
  },
  {
   "cell_type": "code",
   "execution_count": 60,
   "metadata": {},
   "outputs": [
    {
     "name": "stdout",
     "output_type": "stream",
     "text": [
      "задание4 средняя по больнице\n",
      "input country, 0 is end of input\n",
      "Tundra\n",
      "Введите температуры через пробел -10 -20 -60\n",
      "input country, 0 is end of input\n",
      "Sakhara\n",
      "Введите температуры через пробел 100 120 130\n",
      "input country, 0 is end of input\n",
      "0\n",
      "Данные:\n",
      " [['Tundra', [-10.0, -20.0, -60.0]], ['Sakhara', [100.0, 120.0, 130.0]]] \n",
      "\n",
      "Tundra - -34.4 C\n",
      "Sakhara - 47.0 C\n"
     ]
    }
   ],
   "source": [
    "print(\"задание4 средняя по больнице\")\n",
    "\n",
    "countries_temperature=[]\n",
    "countr_temp=[]\n",
    "\n",
    "while True:\n",
    "    print(\"input country, 0 is end of input\")\n",
    "    country=str(input())\n",
    "    if country==\"0\": \n",
    "        break\n",
    "    countr_temp.append(country)\n",
    "    temperatures= list(map(float,input('Введите температуры через пробел ').split()))\n",
    "    countr_temp.append(temperatures)\n",
    "    countries_temperature.append(countr_temp)\n",
    "    #print(\"count_temp=\",countr_temp)\n",
    "    countr_temp=[]\n",
    "    temperatures=[]\n",
    "print(\"Данные:\\n\",countries_temperature,\"\\n\")\n",
    "\n",
    "mid=float(0)\n",
    "mid_f=float(0)\n",
    "for i in range(len(countries_temperature)):\n",
    "    for j in range(len(countries_temperature[i][1])):\n",
    "        mid=mid+(countries_temperature[i][1][j]-32)/1.8\n",
    "        mid_f=mid_f+countries_temperature[i][1][j]\n",
    "    #print(\"end inside\")\n",
    "    mid_f_final=float(mid_f/len(countries_temperature[i][1]))\n",
    "    mid_final=float(mid/len(countries_temperature[i][1]))\n",
    "    print(countries_temperature[i][0],\"-\",\"{0:.1f}\".format(mid_final),\"C\")\n",
    "    #print(countries_temperature[i][0],\"-\",mid_f_final,\"F\")\n",
    "    mid=float(0)\n",
    "    mid_f=float(0)\n",
    "#print(mid_f_final)\n",
    "#print(\"fin\")"
   ]
  },
  {
   "cell_type": "code",
   "execution_count": null,
   "metadata": {},
   "outputs": [],
   "source": [
    "    "
   ]
  }
 ],
 "metadata": {
  "kernelspec": {
   "display_name": "Python 3",
   "language": "python",
   "name": "python3"
  },
  "language_info": {
   "codemirror_mode": {
    "name": "ipython",
    "version": 3
   },
   "file_extension": ".py",
   "mimetype": "text/x-python",
   "name": "python",
   "nbconvert_exporter": "python",
   "pygments_lexer": "ipython3",
   "version": "3.8.5"
  }
 },
 "nbformat": 4,
 "nbformat_minor": 4
}
