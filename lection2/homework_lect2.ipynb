{
 "cells": [
  {
   "cell_type": "code",
   "execution_count": 41,
   "metadata": {},
   "outputs": [
    {
     "name": "stdout",
     "output_type": "stream",
     "text": [
      "задание1 unic GEO\n",
      "input user, 0 is end of input\n",
      "й\n",
      "input geo, space as separator 1 2 2 3\n",
      "input user, 0 is end of input\n",
      "к\n",
      "input geo, space as separator 4 5 6 6\n",
      "input user, 0 is end of input\n",
      "0\n",
      "input data:\n",
      " {'й': [1.0, 2.0, 2.0, 3.0], 'к': [4.0, 5.0, 6.0, 6.0]} \n",
      "\n",
      "Результат:\n",
      " {1.0, 2.0, 3.0, 4.0, 5.0, 6.0} \n",
      "\n"
     ]
    }
   ],
   "source": [
    "print(\"задание1 unic GEO\")\n",
    "d = {}\n",
    "usr=[]\n",
    "result=set()\n",
    "\n",
    "while True:\n",
    "    print(\"input user, 0 is end of input\")\n",
    "    usr_input=str(input())\n",
    "    if usr_input==\"0\": \n",
    "        break\n",
    "    usr.append(usr_input)\n",
    "    geotag= list(map(float,input('input geo, space as separator ').split()))\n",
    "    d[usr[0]]=geotag\n",
    "    usr=[]\n",
    "    geotag=[]\n",
    "print(\"input data:\\n\",d,\"\\n\")\n",
    "\n",
    "for i in list(d.values()):\n",
    "    result|=result|set(i)\n",
    "print(\"Результат:\",result,\"\\n\")"
   ]
  },
  {
   "cell_type": "markdown",
   "metadata": {},
   "source": [
    " ids = {\"user1\": [213, 213, 213, 15, 213]}\n",
    "ids"
   ]
  },
  {
   "cell_type": "code",
   "execution_count": 61,
   "metadata": {},
   "outputs": [
    {
     "name": "stdout",
     "output_type": "stream",
     "text": [
      "задание2 count words\n",
      "input querries, 0 is end of input\n",
      "q w e\n",
      "input querries, 0 is end of input\n",
      "0\n",
      "input data:\n",
      " ['q w e'] \n",
      "\n",
      "[3]\n",
      "Поисковых запросов, содержащих3слов(a):100.00%\n",
      "\n"
     ]
    }
   ],
   "source": [
    "print(\"задание2 count words\")\n",
    "\n",
    "querries=[]\n",
    "res=[]\n",
    "\n",
    "result=set()\n",
    "\n",
    "while True:\n",
    "    print(\"input querries, 0 is end of input\")\n",
    "    q=str(input())\n",
    "    if q==\"0\": \n",
    "        break\n",
    "    querries.append(q)\n",
    "print(\"input data:\\n\",querries,\"\\n\")\n",
    "\n",
    "\n",
    "for i in querries:\n",
    "    res.append(len(i.split(\" \")))\n",
    "\n",
    "#print(res)\n",
    "\n",
    "for j in set(res): \n",
    "    print(\"Поисковых запросов, содержащих\", j ,\"слов(a): \",\"{0:.2f}\".format(res.count(j)/len(res)*100),\"%\\n\",sep=\"\")\n",
    "\n"
   ]
  },
  {
   "cell_type": "code",
   "execution_count": 85,
   "metadata": {},
   "outputs": [
    {
     "name": "stdout",
     "output_type": "stream",
     "text": [
      "задание3 ROI\n",
      "input name, 0 is end of input\n",
      "q\n",
      "input revenue and cost, space as separator 103 98\n",
      "input name, 0 is end of input\n",
      "0\n",
      "input data:\n",
      " {'q': {'revenue': 103.0, 'cost': 98.0}} \n",
      "\n",
      "Результат:\n",
      " {'q': {'ROI': 5.102, 'cost': 98.0, 'revenue': 103.0}} \n",
      "\n"
     ]
    }
   ],
   "source": [
    "print(\"задание3 ROI\")\n",
    "adv = {}\n",
    "adv_cpy = {}\n",
    "inf={}\n",
    "name=[]\n",
    "result=set()\n",
    "\n",
    "while True:\n",
    "    print(\"input name, 0 is end of input\")\n",
    "    n=str(input())\n",
    "    if n==\"0\": \n",
    "        break\n",
    "    name.append(n)\n",
    "    information= list(map(float,input('input revenue and cost, space as separator ').split()))\n",
    "    inf[\"revenue\"]=information[0]\n",
    "    inf[\"cost\"]=information[1]\n",
    "    adv[name[0]]=inf\n",
    "    information=[]\n",
    "    inf={}\n",
    "    name=[]   \n",
    "print(\"input data:\\n\",adv,\"\\n\")\n",
    "\n",
    "adv_cpy=adv.copy()\n",
    "for i,j in adv_cpy.items(): \n",
    "    adv[i]={'ROI':(round((j[\"revenue\"]/j[\"cost\"]-1)*100,2)),'cost':j[\"cost\"],'revenue':j[\"revenue\"]}\n",
    "        \n",
    "print(\"Результат:\\n\",adv,\"\\n\")"
   ]
  },
  {
   "cell_type": "code",
   "execution_count": 93,
   "metadata": {},
   "outputs": [
    {
     "name": "stdout",
     "output_type": "stream",
     "text": [
      "задание4 Max sales\n",
      "input chanel, 0 is end of input\n",
      "q\n",
      "input chanel, 0 is end of input\n",
      "4\n",
      "input chanel, 0 is end of input\n",
      "e\n",
      "input chanel, 0 is end of input\n",
      "2\n",
      "input chanel, 0 is end of input\n",
      "r\n",
      "input chanel, 0 is end of input\n",
      "6\n",
      "input chanel, 0 is end of input\n",
      "a\n",
      "input chanel, 0 is end of input\n",
      "1\n",
      "input chanel, 0 is end of input\n",
      "0\n",
      "input data:\n",
      " {'q': 4.0, 'e': 2.0, 'r': 6.0, 'a': 1.0} \n",
      "\n",
      "Максимальный объем продаж на рекламном канале: r \n",
      "\n"
     ]
    }
   ],
   "source": [
    "print(\"задание4 Max sales\")\n",
    "sales = {}\n",
    "sorted_sales={}\n",
    "res=[]\n",
    "\n",
    "\n",
    "while True:\n",
    "    print(\"input chanel, 0 is end of input\")\n",
    "    ch=str(input())\n",
    "    if ch==\"0\": \n",
    "        break\n",
    "    print(\"input chanel, 0 is end of input\")\n",
    "    vol=float(input())          \n",
    "    sales[ch]=vol\n",
    "print(\"input data:\\n\",sales,\"\\n\")\n",
    "  \n",
    "sorted_keys = sorted(sales, key=sales.get) \n",
    "\n",
    "for i in sorted_keys:\n",
    "    sorted_sales[i] = sales[i]\n",
    "res=list(sorted_sales)\n",
    "res.reverse()\n",
    "print(\"Максимальный объем продаж на рекламном канале:\",res[0][0],\"\\n\")"
   ]
  },
  {
   "cell_type": "markdown",
   "metadata": {},
   "source": [
    "## "
   ]
  },
  {
   "cell_type": "code",
   "execution_count": null,
   "metadata": {},
   "outputs": [],
   "source": []
  }
 ],
 "metadata": {
  "kernelspec": {
   "display_name": "Python 3",
   "language": "python",
   "name": "python3"
  },
  "language_info": {
   "codemirror_mode": {
    "name": "ipython",
    "version": 3
   },
   "file_extension": ".py",
   "mimetype": "text/x-python",
   "name": "python",
   "nbconvert_exporter": "python",
   "pygments_lexer": "ipython3",
   "version": "3.8.5"
  }
 },
 "nbformat": 4,
 "nbformat_minor": 4
}
